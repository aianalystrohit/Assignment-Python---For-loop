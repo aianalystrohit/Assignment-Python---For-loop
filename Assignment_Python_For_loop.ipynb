{
 "cells": [
  {
   "cell_type": "code",
   "execution_count": 6,
   "id": "ad7059b4-6d07-4148-b29f-25fb05eeacdb",
   "metadata": {},
   "outputs": [],
   "source": [
    "#1. Write a Python program to print the numbers from 1 to 10 using a `for` loop.\n"
   ]
  },
  {
   "cell_type": "code",
   "execution_count": 7,
   "id": "25cf5fa1-5e23-466c-8767-328a22e821cf",
   "metadata": {},
   "outputs": [
    {
     "name": "stdout",
     "output_type": "stream",
     "text": [
      "1\n",
      "2\n",
      "3\n",
      "4\n",
      "5\n",
      "6\n",
      "7\n",
      "8\n",
      "9\n",
      "10\n"
     ]
    }
   ],
   "source": [
    "for inum in range(1, 11):\n",
    "  print(inum)\n"
   ]
  },
  {
   "cell_type": "code",
   "execution_count": 8,
   "id": "d52eb8f3-4ce3-49b3-9aff-5468ea3931b3",
   "metadata": {},
   "outputs": [],
   "source": [
    "#2. Create a program that calculates the sum of all numbers in a list using a `for` loop.\n"
   ]
  },
  {
   "cell_type": "code",
   "execution_count": 9,
   "id": "03651cc3-83e9-46a2-a033-7c412ad1cb85",
   "metadata": {},
   "outputs": [
    {
     "name": "stdout",
     "output_type": "stream",
     "text": [
      "103\n"
     ]
    }
   ],
   "source": [
    "list11 =[1,2,3,4,5,78,10]\n",
    "\n",
    "sum11 =0\n",
    "\n",
    "for i in list11:\n",
    "    sum11 +=i\n",
    "print(sum11)"
   ]
  },
  {
   "cell_type": "code",
   "execution_count": 10,
   "id": "25edfc20-5179-4b89-964e-2ef4e7711aa0",
   "metadata": {},
   "outputs": [],
   "source": [
    "#3.Write a program to print the characters of a string in reverse order using a `for` loop.\n"
   ]
  },
  {
   "cell_type": "code",
   "execution_count": 11,
   "id": "87b3aeb3-2ab5-4f29-8092-c66c20d84cee",
   "metadata": {},
   "outputs": [
    {
     "name": "stdout",
     "output_type": "stream",
     "text": [
      "rohit"
     ]
    }
   ],
   "source": [
    "string11 =\"rohit\"\n",
    "for m in string11:\n",
    "    string11[::-1]\n",
    "    print(m, end='')"
   ]
  },
  {
   "cell_type": "code",
   "execution_count": 12,
   "id": "ebeab7ab-c3ec-4892-93ee-ddc8857b5335",
   "metadata": {},
   "outputs": [],
   "source": [
    "#4.Develop a program that finds the factorial of a given number using a `for` loop.\n",
    "\n"
   ]
  },
  {
   "cell_type": "code",
   "execution_count": 13,
   "id": "ce02b5b3-a375-4ce0-bd8b-8d5aff5281b9",
   "metadata": {},
   "outputs": [],
   "source": [
    "def fact(n):\n",
    "  factorail =1\n",
    "  if n<= 1:\n",
    "    print(\"N might be negative or 1\")\n",
    "  else:\n",
    "    for i in range(2,n+1):\n",
    "      factorail*=i\n",
    "  return factorail"
   ]
  },
  {
   "cell_type": "code",
   "execution_count": 14,
   "id": "3b9686a6-6816-4b24-8c97-72844f2e54d3",
   "metadata": {},
   "outputs": [
    {
     "data": {
      "text/plain": [
       "788657867364790503552363213932185062295135977687173263294742533244359449963403342920304284011984623904177212138919638830257642790242637105061926624952829931113462857270763317237396988943922445621451664240254033291864131227428294853277524242407573903240321257405579568660226031904170324062351700858796178922222789623703897374720000000000000000000000000000000000000000000000000"
      ]
     },
     "execution_count": 14,
     "metadata": {},
     "output_type": "execute_result"
    }
   ],
   "source": [
    "fact(200)"
   ]
  },
  {
   "cell_type": "code",
   "execution_count": 15,
   "id": "ab36ab0b-3e6e-4c5f-a234-af72f3c40821",
   "metadata": {},
   "outputs": [],
   "source": [
    "#5.Create a program to print the multiplication table of a given number using a `for` loop"
   ]
  },
  {
   "cell_type": "code",
   "execution_count": 16,
   "id": "01babbd5-567e-40bc-bd77-63dc1aa90055",
   "metadata": {},
   "outputs": [],
   "source": [
    "def table(n):\n",
    "  table1 = 1\n",
    "  if n < 0:\n",
    "    print (\"table for n is: 0\" )\n",
    "  else:\n",
    "    for i in range(1,11):\n",
    "     product= table1=i*n\n",
    "     print(f\"{n} x {i} = {product}\")\n"
   ]
  },
  {
   "cell_type": "code",
   "execution_count": 17,
   "id": "a5e713f6-68c2-4f6c-b7cc-8c0bf04b3ccf",
   "metadata": {},
   "outputs": [
    {
     "name": "stdout",
     "output_type": "stream",
     "text": [
      "5 x 1 = 5\n",
      "5 x 2 = 10\n",
      "5 x 3 = 15\n",
      "5 x 4 = 20\n",
      "5 x 5 = 25\n",
      "5 x 6 = 30\n",
      "5 x 7 = 35\n",
      "5 x 8 = 40\n",
      "5 x 9 = 45\n",
      "5 x 10 = 50\n"
     ]
    }
   ],
   "source": [
    "table(5)"
   ]
  },
  {
   "cell_type": "code",
   "execution_count": 18,
   "id": "e6bd50e5-5899-4f6f-a5ae-9edea12b9291",
   "metadata": {},
   "outputs": [],
   "source": [
    "#6.Write a program that counts the number of even and odd numbers in a list using a `for` loop.\n"
   ]
  },
  {
   "cell_type": "code",
   "execution_count": 19,
   "id": "82d0bc8a-8a7b-4bc9-9c85-4d617000caf4",
   "metadata": {},
   "outputs": [
    {
     "name": "stdout",
     "output_type": "stream",
     "text": [
      "Even numbers: 5\n",
      "Odd numbers: 6\n"
     ]
    }
   ],
   "source": [
    "def count_even_odd(numbers):\n",
    "  even = 0\n",
    "  odd = 0\n",
    "\n",
    "  for i in numbers:\n",
    "    if i % 2 == 0:\n",
    "      even += 1\n",
    "    else:\n",
    "      odd += 1\n",
    "\n",
    "  return even, odd\n",
    "\n",
    "numbers2 = [1, 2, 3, 4, 5, 6, 7, 8, 9, 10, 11]\n",
    "even, odd = count_even_odd(numbers2)\n",
    "print(\"Even numbers:\", even)\n",
    "print(\"Odd numbers:\", odd)"
   ]
  },
  {
   "cell_type": "code",
   "execution_count": 20,
   "id": "f74ed4d9-b090-4a27-95df-26f2e70abd0d",
   "metadata": {},
   "outputs": [],
   "source": [
    "#7. Develop a program that prints the squares of numbers from 1 to 5 using a `for` loop.\n"
   ]
  },
  {
   "cell_type": "code",
   "execution_count": 21,
   "id": "1405bd01-ecc8-4f62-afe4-728d19914fd1",
   "metadata": {},
   "outputs": [],
   "source": [
    "def squares(n):\n",
    "    for i in range(1, n+1):\n",
    "        square = i * i\n",
    "    print(square)"
   ]
  },
  {
   "cell_type": "code",
   "execution_count": 22,
   "id": "40a80f6b-faba-444e-98e3-1ea5fa105a5b",
   "metadata": {},
   "outputs": [
    {
     "name": "stdout",
     "output_type": "stream",
     "text": [
      "16\n"
     ]
    }
   ],
   "source": [
    "squares(4)"
   ]
  },
  {
   "cell_type": "code",
   "execution_count": 23,
   "id": "f69a0a9f-3a42-406d-beeb-a70bc3c06952",
   "metadata": {},
   "outputs": [],
   "source": [
    "#8. Create a program to find the length of a string without using the `len()` function.\n"
   ]
  },
  {
   "cell_type": "code",
   "execution_count": 24,
   "id": "0ae9a4a4-3546-44d5-a301-d5fcdc8ab8c6",
   "metadata": {},
   "outputs": [
    {
     "name": "stdout",
     "output_type": "stream",
     "text": [
      "33\n"
     ]
    }
   ],
   "source": [
    "string99 = \"hitman is not hitting recursively\"\n",
    "count = 0\n",
    "\n",
    "for char in string99:\n",
    "    count += 1\n",
    "print(count)\n"
   ]
  },
  {
   "cell_type": "code",
   "execution_count": 25,
   "id": "1e6b8971-5090-495b-acef-9effed92525d",
   "metadata": {},
   "outputs": [],
   "source": [
    "#9. Write a program that calculates the average of a list of numbers using a `for` loop."
   ]
  },
  {
   "cell_type": "code",
   "execution_count": 26,
   "id": "22526739-473c-4558-a256-8e05306ae455",
   "metadata": {},
   "outputs": [
    {
     "name": "stdout",
     "output_type": "stream",
     "text": [
      "6.0\n"
     ]
    }
   ],
   "source": [
    "forList =[10,2]\n",
    "m=0\n",
    "count0=0\n",
    "j=1\n",
    "for i in forList:\n",
    "    count0+=1\n",
    "    m=m+i\n",
    "j= m/count0\n",
    "print(j)"
   ]
  },
  {
   "cell_type": "code",
   "execution_count": 27,
   "id": "bb74b013-d5f2-4eda-807f-86a7a77aaee0",
   "metadata": {},
   "outputs": [],
   "source": [
    "#10.Develop a program that prints the first `n` Fibonacci numbers using a `for` loop."
   ]
  },
  {
   "cell_type": "code",
   "execution_count": null,
   "id": "cf802076-e35c-4812-b2bf-87ecd55a7c04",
   "metadata": {},
   "outputs": [],
   "source": []
  },
  {
   "cell_type": "code",
   "execution_count": 28,
   "id": "99bbb6d6-ce77-4c1c-b97c-d14da8eca4a4",
   "metadata": {},
   "outputs": [],
   "source": [
    "def fib_num(n):\n",
    "    if n < 0:\n",
    "        return None\n",
    "    elif n == 0:\n",
    "        return 0\n",
    "    elif n == 1:\n",
    "        return 1\n",
    "    a, b = 0, 1\n",
    "    for i in range(2, n + 1):\n",
    "        c = a + b\n",
    "        a, b = b, c\n",
    "    return c\n"
   ]
  },
  {
   "cell_type": "code",
   "execution_count": 29,
   "id": "d26f63aa-7f20-46f3-963e-26b8c5385d45",
   "metadata": {},
   "outputs": [
    {
     "data": {
      "text/plain": [
       "55"
      ]
     },
     "execution_count": 29,
     "metadata": {},
     "output_type": "execute_result"
    }
   ],
   "source": [
    "fib_num(10)"
   ]
  },
  {
   "cell_type": "code",
   "execution_count": 30,
   "id": "409796ef-0907-4f30-97a8-e6685e55bfc4",
   "metadata": {},
   "outputs": [],
   "source": [
    "#11. 11. Write a program to check if a given list contains any duplicates using a `for` loop.\n"
   ]
  },
  {
   "cell_type": "code",
   "execution_count": 31,
   "id": "ae6c1b23-2a0c-49d5-9e7f-e3f4b154ab87",
   "metadata": {},
   "outputs": [
    {
     "name": "stdout",
     "output_type": "stream",
     "text": [
      "The list contains duplicates.\n"
     ]
    }
   ],
   "source": [
    "my_list = [1, 2, 3, 4, 5,2]\n",
    "\n",
    "for i in range(len(my_list)):\n",
    "    if my_list[i] in my_list[i + 1:]:\n",
    "        print(\"The list contains duplicates.\")\n",
    "        break\n",
    "else:\n",
    "    print(\"The list does not contain duplicates.\")\n"
   ]
  },
  {
   "cell_type": "code",
   "execution_count": 32,
   "id": "a168b954-0874-4f14-9cf4-3f1fea7dfc83",
   "metadata": {},
   "outputs": [],
   "source": [
    "#12.Create a program that prints the prime numbers in a given range using a `for` loop.\n"
   ]
  },
  {
   "cell_type": "code",
   "execution_count": 33,
   "id": "9c94c50f-6f60-4558-a1e2-e19fa52dc35b",
   "metadata": {},
   "outputs": [
    {
     "name": "stdout",
     "output_type": "stream",
     "text": [
      "11\n",
      "13\n",
      "17\n",
      "19\n",
      "23\n",
      "29\n",
      "31\n",
      "37\n",
      "41\n",
      "43\n",
      "47\n",
      "53\n",
      "59\n",
      "61\n",
      "67\n",
      "71\n",
      "73\n",
      "79\n",
      "83\n",
      "89\n",
      "97\n"
     ]
    }
   ],
   "source": [
    "def print_primes(start, end):\n",
    "  for num in range(start, end + 1):\n",
    "    if num <= 1:\n",
    "      continue\n",
    "    is_prime = True\n",
    "    for i in range(2, int(num**0.5) + 1):\n",
    "      if num % i == 0:\n",
    "        is_prime = False\n",
    "        break\n",
    "    if is_prime:\n",
    "      print(num)\n",
    "\n",
    "print_primes(10, 100)\n"
   ]
  },
  {
   "cell_type": "code",
   "execution_count": 34,
   "id": "f5796d3b-abbc-4a42-84e4-41d374ed4b3c",
   "metadata": {},
   "outputs": [],
   "source": [
    "#13.Develop a program that counts the number of vowels in a string using a `for` loop."
   ]
  },
  {
   "cell_type": "code",
   "execution_count": 35,
   "id": "e2fb76c9-d479-48b2-b84a-114beef248c7",
   "metadata": {},
   "outputs": [
    {
     "name": "stdout",
     "output_type": "stream",
     "text": [
      "Number of vowels: 11\n"
     ]
    }
   ],
   "source": [
    "arr = \"roit is not a good person though\"\n",
    "vowels = \"aeiou\"\n",
    "vowel_count = 0\n",
    "\n",
    "for char in arr:\n",
    "  if char.lower() in vowels:\n",
    "    vowel_count += 1\n",
    "\n",
    "print(\"Number of vowels:\", vowel_count)\n"
   ]
  },
  {
   "cell_type": "code",
   "execution_count": 36,
   "id": "9c241540-5aae-4fb3-ad08-f449c7e117dc",
   "metadata": {},
   "outputs": [],
   "source": [
    "#14.Write a program to find the maximum element in a 2D list using a nested `for` loop."
   ]
  },
  {
   "cell_type": "code",
   "execution_count": 37,
   "id": "a6243e3e-e889-46bb-b4e1-fb1e1b301772",
   "metadata": {},
   "outputs": [
    {
     "name": "stdout",
     "output_type": "stream",
     "text": [
      "9\n"
     ]
    }
   ],
   "source": [
    "my_list = [[1, 2, 3],\n",
    "          [4, 5, 6],\n",
    "          [7, 8, 9]]\n",
    "\n",
    "\n",
    "max_value = my_list[0][0]\n",
    "\n",
    "for row in my_list:\n",
    "    for element in row:\n",
    "        if element > max_value:\n",
    "            max_value = element\n",
    "\n",
    "print( max_value)"
   ]
  },
  {
   "cell_type": "code",
   "execution_count": 38,
   "id": "7ca6193b-e70a-4a4f-b04f-89b1608d42a3",
   "metadata": {},
   "outputs": [
    {
     "name": "stdout",
     "output_type": "stream",
     "text": [
      "[1, 2, 3, 5, 6, 77, 88, 34]\n"
     ]
    }
   ],
   "source": [
    "#15.Create a program that removes all occurrences of a specific element from a list using a `for` loop.\n",
    "n=[1,2,3,5,6,77,88,934,34]\n",
    "m=[]\n",
    "a=934\n",
    "for i in (n):\n",
    "    if i !=a:\n",
    "        m.append(i)\n",
    "print(m)"
   ]
  },
  {
   "cell_type": "code",
   "execution_count": null,
   "id": "0e1e8546-dcb0-4858-8514-93cbf0ae18cd",
   "metadata": {},
   "outputs": [],
   "source": []
  },
  {
   "cell_type": "code",
   "execution_count": 39,
   "id": "7312266b-f52f-4afa-8746-38665a80cb97",
   "metadata": {},
   "outputs": [
    {
     "name": "stdout",
     "output_type": "stream",
     "text": [
      "1\t2\t3\t4\t5\t\n",
      "2\t4\t6\t8\t10\t\n",
      "3\t6\t9\t12\t15\t\n",
      "4\t8\t12\t16\t20\t\n",
      "5\t10\t15\t20\t25\t\n"
     ]
    }
   ],
   "source": [
    "#16. Develop a program that generates a multiplication table for numbers from 1 to 5 using a nested `for` loop.for i in range(1, 11):\n",
    "for i in range(1, 6):\n",
    "    for j in range(1, 6):\n",
    "        print(i * j, end=\"\\t\")\n",
    "    print()\n"
   ]
  },
  {
   "cell_type": "code",
   "execution_count": 40,
   "id": "b2b82d48-0f43-4029-b10a-c1c1775ae144",
   "metadata": {},
   "outputs": [
    {
     "name": "stdout",
     "output_type": "stream",
     "text": [
      "[124.44444444444444, 3617.777777777778, 3747.777777777778, 222.77777777777777, -5.555555555555555, 0.0]\n"
     ]
    }
   ],
   "source": [
    "#17.Write a program that converts a list of Fahrenheit temperatures to Celsius using a `for` loop.\n",
    "far=[256,6544,6778,433,22,32]\n",
    "c=[]\n",
    "for i in far:\n",
    "    m=(i-32)/1.8\n",
    "    c.append(m)\n",
    "print(c)"
   ]
  },
  {
   "cell_type": "code",
   "execution_count": 41,
   "id": "46acc3d3-f1fd-4bc6-883f-d871a71cb06c",
   "metadata": {},
   "outputs": [
    {
     "name": "stdout",
     "output_type": "stream",
     "text": [
      "[55, 778, 'w']\n"
     ]
    }
   ],
   "source": [
    "#18.Create a program to print the common elements from two lists using a `for` loop.\n",
    "a=[1,2,3,55,778,99,\"w\"]\n",
    "b=[55,778,9,23,56,\"w\"]\n",
    "c=[]\n",
    "for l in b:\n",
    "    for i in a:\n",
    "        if i==l:\n",
    "            c.append(i)\n",
    "print(c)"
   ]
  },
  {
   "cell_type": "code",
   "execution_count": 42,
   "id": "6355494d-5329-4dbd-b56b-6410d355ba9f",
   "metadata": {},
   "outputs": [
    {
     "name": "stdout",
     "output_type": "stream",
     "text": [
      "* \n",
      "* * \n",
      "* * * \n",
      "* * * * \n",
      "* * * * * \n",
      "* * * * * * \n",
      "* * * * * * * \n",
      "* * * * * * * * \n",
      "* * * * * * * * * \n",
      "* * * * * * * * * * \n"
     ]
    }
   ],
   "source": [
    "'''19.Develop a program that prints the pattern of right-angled triangles using a `for` loop. Use ‘*’ to draw the\n",
    "pattern'''\n",
    "\n",
    "rows = 10\n",
    "for i in range(1, rows + 1):\n",
    "    for j in range(1, i + 1):\n",
    "        print(\"*\", end=\" \")\n",
    "    print()\n"
   ]
  },
  {
   "cell_type": "code",
   "execution_count": 43,
   "id": "2fcabf2f-c702-484c-b788-4128f248378c",
   "metadata": {},
   "outputs": [],
   "source": [
    "#20. Write a program to find the greatest common divisor (GCD) of two numbers using a `for` loop."
   ]
  },
  {
   "cell_type": "code",
   "execution_count": 51,
   "id": "72ec49ad-2663-4f3c-bcdd-cb1940a4168e",
   "metadata": {},
   "outputs": [
    {
     "name": "stdout",
     "output_type": "stream",
     "text": [
      "The GCD of 12 and 18 is 6\n"
     ]
    }
   ],
   "source": [
    "def gcd(a, b):\n",
    "    a = int(a)\n",
    "    b = int(b)\n",
    "    gcd = min(a, b)\n",
    "    for divisor in range(1, gcd + 1):\n",
    "        if a % divisor == 0 and b % divisor == 0:\n",
    "            gcd = divisor\n",
    "    return gcd\n",
    "\n",
    "\n",
    "num1 = 12\n",
    "num2 = 18\n",
    "result = gcd(num1, num2)\n",
    "print(f\"The GCD of {num1} and {num2} is {result}\")\n"
   ]
  },
  {
   "cell_type": "code",
   "execution_count": 52,
   "id": "d336396e-40ce-4c7e-8df1-1dacfb8f7bde",
   "metadata": {},
   "outputs": [],
   "source": [
    "#21.Create a program that calculates the sum of the digits of numbers in a list using a list comprehension"
   ]
  },
  {
   "cell_type": "code",
   "execution_count": 57,
   "id": "b6ab5f0f-d8f5-44b9-9598-b3818fdec692",
   "metadata": {},
   "outputs": [
    {
     "name": "stdout",
     "output_type": "stream",
     "text": [
      "[6, 15, 24]\n"
     ]
    }
   ],
   "source": [
    "numbers = [123, 456, 789]\n",
    "\n",
    "\n",
    "sum_of_digits = [sum(map(int, str(num))) for num in numbers]\n",
    "\n",
    "print(sum_of_digits)\n"
   ]
  },
  {
   "cell_type": "code",
   "execution_count": 58,
   "id": "5bba2f3a-e939-4951-9cd5-63104dfb6f2d",
   "metadata": {},
   "outputs": [],
   "source": [
    "#22. Write a program to find the prime factors of a given number using a `for` loop and list comprehension.\n"
   ]
  },
  {
   "cell_type": "code",
   "execution_count": 62,
   "id": "212d1ced-44bc-4f84-be93-dd20a4c84031",
   "metadata": {},
   "outputs": [
    {
     "name": "stdin",
     "output_type": "stream",
     "text": [
      " k\n"
     ]
    }
   ],
   "source": [
    "\"\""
   ]
  },
  {
   "cell_type": "code",
   "execution_count": 63,
   "id": "55d950d6-5816-42a8-b23b-7dc41c6a0ae1",
   "metadata": {},
   "outputs": [],
   "source": [
    "#23. Develop a program that extracts unique elements from a list and stores them in a new list using a list comprehension.\n"
   ]
  },
  {
   "cell_type": "code",
   "execution_count": 79,
   "id": "b03825e5-2f2f-489f-b654-eb1fcaa846eb",
   "metadata": {},
   "outputs": [
    {
     "name": "stdout",
     "output_type": "stream",
     "text": [
      "Unique elements: [1, 2, 3, 4, 5]\n"
     ]
    }
   ],
   "source": [
    "remv_list = [1, 2, 3, 2, 4, 1, 5]\n",
    "\n",
    "unique_list = [x for x in set(remv_list)]\n",
    "\n",
    "print(\"Unique elements:\", unique_list)\n"
   ]
  },
  {
   "cell_type": "code",
   "execution_count": 80,
   "id": "2f25ca86-079c-425a-9fe1-1a48beb06e02",
   "metadata": {},
   "outputs": [],
   "source": [
    "#24.Create a program that generates a list of all palindromic numbers up to a specified limit using a list comprehension.\n"
   ]
  },
  {
   "cell_type": "code",
   "execution_count": 84,
   "id": "77c5edca-7615-4803-8b67-9cb5f6cbefb6",
   "metadata": {},
   "outputs": [
    {
     "name": "stdout",
     "output_type": "stream",
     "text": [
      "[1, 2, 3, 4, 5, 6, 7, 8, 9, 11, 22, 33, 44, 55, 66, 77, 88, 99]\n"
     ]
    }
   ],
   "source": [
    "def is_palindrome(num):\n",
    "  \"\"\"Checks if a number is a palindrome.\"\"\"\n",
    "  return str(num) == str(num)[::-1]\n",
    "\n",
    "limit = 100\n",
    "\n",
    "palindromes = [num for num in range(1, limit + 1) if is_palindrome(num)]\n",
    "\n",
    "print(palindromes)\n"
   ]
  },
  {
   "cell_type": "code",
   "execution_count": 85,
   "id": "664815c3-c43e-47ee-ba22-94a370980bb6",
   "metadata": {},
   "outputs": [],
   "source": [
    "#25.Write a program to flatten a nested list using list comprehension.\n"
   ]
  },
  {
   "cell_type": "code",
   "execution_count": 8,
   "id": "c3e64743-52ca-49eb-a6b9-8343986e9bd9",
   "metadata": {},
   "outputs": [],
   "source": [
    "#26.Develop a program that computes the sum of even and odd numbers in a list separately using list comprehension.\n"
   ]
  },
  {
   "cell_type": "code",
   "execution_count": 10,
   "id": "7822e2f1-9124-47e3-b9fc-115ae4fb3494",
   "metadata": {},
   "outputs": [
    {
     "name": "stdout",
     "output_type": "stream",
     "text": [
      "Sum of evens: 6, Sum of odds: 9\n"
     ]
    }
   ],
   "source": [
    "def sum_even_odd(numbers):\n",
    "  evens = sum(num for num in numbers if num % 2 == 0)\n",
    "  odds = sum(num for num in numbers if num % 2 != 0)\n",
    "  return evens, odds\n",
    "\n",
    "numbers = [1, 2, 3, 4, 5]\n",
    "even_sum, odd_sum = sum_even_odd(numbers)\n",
    "print(f\"Sum of evens: {even_sum}, Sum of odds: {odd_sum}\")\n"
   ]
  },
  {
   "cell_type": "code",
   "execution_count": 11,
   "id": "58382a34-eb32-4fae-9900-1760271a12a5",
   "metadata": {},
   "outputs": [
    {
     "name": "stdout",
     "output_type": "stream",
     "text": [
      "[1, 9, 25, 49, 81]\n"
     ]
    }
   ],
   "source": [
    "#27.Create a program that generates a list of squares of odd numbers between 1 and 10 using list comprehension.\n",
    "squares = [num**2 for num in range(1, 11) if num % 2 != 0]\n",
    "print(squares)\n"
   ]
  },
  {
   "cell_type": "code",
   "execution_count": 12,
   "id": "58e3723d-7751-489f-a477-02c95843fab2",
   "metadata": {},
   "outputs": [
    {
     "name": "stdout",
     "output_type": "stream",
     "text": [
      "{'a': 1, 'b': 2, 'c': 3}\n"
     ]
    }
   ],
   "source": [
    "#28.Write a program that combines two lists into a dictionary using list comprehension.\n",
    "\n",
    "keys = [\"a\", \"b\", \"c\"]\n",
    "values = [1, 2, 3]\n",
    "\n",
    "combined_dict = {key: value for key, value in zip(keys, values)}\n",
    "print(combined_dict) \n"
   ]
  },
  {
   "cell_type": "code",
   "execution_count": 15,
   "id": "80adf5ba-f794-41d0-9c89-b473c46ec04f",
   "metadata": {},
   "outputs": [
    {
     "name": "stdout",
     "output_type": "stream",
     "text": [
      "['e', 'o', 'o']\n"
     ]
    }
   ],
   "source": [
    "#29. Develop a program that extracts the vowels from a string and stores them in a list using list comprehension.\n",
    "text = \"Hello, world!\"\n",
    "vowels = [char for char in text if char.lower() in \"aeiou\"]\n",
    "print(vowels)\n",
    "\n"
   ]
  },
  {
   "cell_type": "code",
   "execution_count": 16,
   "id": "76068270-f8ac-47c6-bfa0-b4d5b8a998ea",
   "metadata": {},
   "outputs": [
    {
     "name": "stdout",
     "output_type": "stream",
     "text": [
      "['1', '2', '3', '4', '5', '6']\n"
     ]
    }
   ],
   "source": [
    "#30. Create a program that removes all non-numeric characters from a list of strings using list comprehension.\n",
    "strings = [\"abc123\", \"def456\", \"ghi!\"]\n",
    "numeric_strings = [char for string in strings for char in string if char.isdigit()]\n",
    "print(numeric_strings)"
   ]
  },
  {
   "cell_type": "code",
   "execution_count": null,
   "id": "536c5065-0075-474d-ba17-fb6ce3bdaf8d",
   "metadata": {},
   "outputs": [],
   "source": []
  },
  {
   "cell_type": "code",
   "execution_count": 17,
   "id": "04a518c5-9ebb-4ca7-9b2d-8d8af6ab7bd8",
   "metadata": {},
   "outputs": [],
   "source": [
    "#31. Write a program to generate a list of prime numbers using the Sieve of Eratosthenes algorithm and list comprehension.\n",
    "def sieve(n):\n",
    "    prime = [True] * (n + 1)\n",
    "    prime[0] = prime[1] = False\n",
    "    for p in range(2, int(n**0.5) + 1):\n",
    "        if prime[p]:\n",
    "            for i in range(p * p, n + 1, p):\n",
    "                prime[i] = False\n",
    "    return [i for i, p in enumerate(prime) if p]\n",
    "\n"
   ]
  },
  {
   "cell_type": "code",
   "execution_count": 18,
   "id": "62ea9a82-8807-4f73-b6a1-d8438d2bef4f",
   "metadata": {},
   "outputs": [],
   "source": [
    "#32. Create a program that generates a list of all Pythagorean triplets up to a specified limit using listcomprehension.\n",
    "\n",
    "\n",
    "def pythagorean_triplets(limit):\n",
    "    return [(a, b, c) for a in range(1, limit) for b in range(a, limit) for c in range(b, limit)\n",
    "            if a**2 + b**2 == c**2]\n",
    "\n"
   ]
  },
  {
   "cell_type": "code",
   "execution_count": 19,
   "id": "a230a085-d0b3-48b0-9e59-f50dae782aae",
   "metadata": {},
   "outputs": [],
   "source": [
    "#33. Develop a program that generates a list of all possible combinations of two lists using list comprehension.\n",
    "\n",
    "def list_combinations(list1, list2):\n",
    "    return [(x, y) for x in list1 for y in list2]\n",
    "\n"
   ]
  },
  {
   "cell_type": "code",
   "execution_count": 20,
   "id": "9815292c-02a1-43f7-9f3c-87435f280c54",
   "metadata": {},
   "outputs": [],
   "source": [
    "#34. Write a program that calculates the mean, median, and mode of a list of numbers using list comprehension.\n",
    "def statistics(data):\n",
    "    data.sort()\n",
    "    n = len(data)\n",
    "    mean = sum(data) / n\n",
    "    median = data[n // 2] if n % 2 else (data[n // 2 - 1] + data[n // 2]) / 2\n",
    "    mode = max(set(data), key=data.count)\n",
    "    return mean, median, mode\n",
    "\n"
   ]
  },
  {
   "cell_type": "code",
   "execution_count": 27,
   "id": "9b9b89d5-dee2-4edd-b904-ff0d8a6e7c4f",
   "metadata": {},
   "outputs": [],
   "source": [
    "#35. Create a program that generates Pascal's triangle up to a specified number of rows using list comprehension.\n",
    "\n",
    "def pascal_triangle(rows):\n",
    "    triangle = [[1]]\n",
    "    for i in range(1, rows):\n",
    "        triangle.append([1] + [triangle[i - 1][j - 1] + triangle[i - 1][j] for j in range(1, i)] + [1])\n",
    "    return triangle\n",
    "\n"
   ]
  },
  {
   "cell_type": "code",
   "execution_count": 22,
   "id": "996a7aee-7fb8-4e18-b113-dc905a4a716d",
   "metadata": {},
   "outputs": [],
   "source": [
    "#36. Develop a program that calculates the sum of the digits of a factorial of numbers from 1 to 5 using list comprehension.\n",
    "\n",
    "def factorial_digit_sum(n):\n",
    "    factorials = [1] * (n + 1)\n",
    "    for i in range(2, n + 1):\n",
    "        factorials[i] = factorials[i - 1] * i\n",
    "    return sum(int(d) for d in str(sum(factorials[1:])))\n",
    "\n"
   ]
  },
  {
   "cell_type": "code",
   "execution_count": 23,
   "id": "d7dcd2c8-cec0-4ca7-8e2d-a35d85e48c29",
   "metadata": {},
   "outputs": [],
   "source": [
    "#37. Write a program that finds the longest word in a sentence using list comprehension.\n",
    "def longest_word(sentence):\n",
    "    return max(sentence.split(), key=len)\n",
    "\n"
   ]
  },
  {
   "cell_type": "code",
   "execution_count": 24,
   "id": "2100268b-0cc8-4dbb-bfd2-a75b9578828f",
   "metadata": {},
   "outputs": [],
   "source": [
    "#38. Create a program that filters a list of strings to include only those with more than three vowels using list\n",
    "def filter_vowels(strings):\n",
    "    vowels = set('aeiouAEIOU')\n",
    "    return [s for s in strings if sum(c in vowels for c in s) > 3]\n",
    "\n"
   ]
  },
  {
   "cell_type": "code",
   "execution_count": 25,
   "id": "432f7bf8-7b4b-484f-a2a2-0b0b9cc420f5",
   "metadata": {},
   "outputs": [],
   "source": [
    "#39. Develop a program that calculates the sum of the digits of numbers from 1 to 1000 using list comprehension.\n",
    "\n",
    "def sum_digits_1000():\n",
    "    return sum(int(d) for d in str(sum(range(1, 1001))))\n",
    "\n"
   ]
  },
  {
   "cell_type": "code",
   "execution_count": 26,
   "id": "b38592c1-5394-45de-9c98-f43aacc19782",
   "metadata": {},
   "outputs": [],
   "source": [
    "#40. Write a program that generates a list of prime palindromic numbers using list comprehension.\n",
    "def is_prime(n):\n",
    "    if n <= 1:\n",
    "        return False\n",
    "    for i in range(2, int(n**0.5) + 1):\n",
    "        if n % i == 0:\n",
    "            return False\n",
    "    return True\n",
    "\n",
    "def is_palindrome(n):\n",
    "    return str(n) == str(n)[::-1]\n",
    "\n",
    "def prime_palindromes(limit):\n",
    "    return [p for p in range(1, limit) if is_prime(p) and is_palindrome(p)]\n"
   ]
  },
  {
   "cell_type": "code",
   "execution_count": null,
   "id": "b6f1dd66-dccb-47d1-9c6e-625f8c11b5b2",
   "metadata": {},
   "outputs": [],
   "source": []
  }
 ],
 "metadata": {
  "kernelspec": {
   "display_name": "Python 3 (ipykernel)",
   "language": "python",
   "name": "python3"
  },
  "language_info": {
   "codemirror_mode": {
    "name": "ipython",
    "version": 3
   },
   "file_extension": ".py",
   "mimetype": "text/x-python",
   "name": "python",
   "nbconvert_exporter": "python",
   "pygments_lexer": "ipython3",
   "version": "3.10.8"
  }
 },
 "nbformat": 4,
 "nbformat_minor": 5
}
